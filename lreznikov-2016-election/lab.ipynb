{
 "metadata": {
  "language_info": {
   "codemirror_mode": {
    "name": "ipython",
    "version": 3
   },
   "file_extension": ".py",
   "mimetype": "text/x-python",
   "name": "python",
   "nbconvert_exporter": "python",
   "pygments_lexer": "ipython3",
   "version": "3.6.9-final"
  },
  "orig_nbformat": 2,
  "kernelspec": {
   "name": "python3",
   "display_name": "Python 3"
  }
 },
 "nbformat": 4,
 "nbformat_minor": 2,
 "cells": [
  {
   "source": [
    "# DS Fellows Project: A 2016 Election Analysis\n",
    "\n",
    "# By: Leron Reznikov"
   ],
   "cell_type": "markdown",
   "metadata": {}
  },
  {
   "source": [
    "In this lab, we will be analyzing a dataset of polling data from the 2016 Presidential Election. If you follow politics, you may know that many polls strongly underestimated Donald Trump's performance in several key states, causing him to win the election despite many models showing it would be a Clinton victory. We will try to investigate and see if these errors are simple polling errors, or whether there were more serious miscalculations.\n",
    "\n",
    "This data was taken from FiveThirtyEight, a respected organization that focuses on statistical and social analysis to predict election outcomes. You can find the raw source of the data, as well as more information about the dataset, [here] (https://www.kaggle.com/fivethirtyeight/2016-election-polls)."
   ],
   "cell_type": "markdown",
   "metadata": {}
  },
  {
   "source": [
    "Let's import the required libraries and load our dataset into a variable called original_data."
   ],
   "cell_type": "markdown",
   "metadata": {}
  },
  {
   "cell_type": "code",
   "execution_count": null,
   "metadata": {},
   "outputs": [],
   "source": [
    "from datascience import *\n",
    "import numpy as np\n",
    "import matplotlib.pyplot as plt\n",
    "%matplotlib inline\n"
   ]
  },
  {
   "source": [
    "```\n",
    "BEGIN QUESTION\n",
    "name: q0\n",
    "manual: false\n",
    "```\n"
   ],
   "cell_type": "markdown",
   "metadata": {}
  },
  {
   "cell_type": "code",
   "execution_count": null,
   "metadata": {},
   "outputs": [],
   "source": [
    "original_data = Table.read_table('presidential_polls.csv') # SOLUTION"
   ]
  },
  {
   "source": [
    "Looking at the columns, there are many different features of this data. Luckily, we are only interested in a few of them:\n",
    "* forecastdate: The date the forecast was uploaded to FiveThirtyEight\n",
    "* adjpoll_clinton / adjpoll_trump: the adjusted/calculated percentage of people voting for each candidate. Since each poll was random, it likely oversurveyed people of different demographics - for example, 80% of people asked could have been members of Party A, when it is known that the true population proporion is 50%. Adjusting the average allows the bias to be removed and gives a more accurate prediction.\n",
    "* state: the state where the entry was polled\n",
    "* grade: The grade that the pollster has on FiveThirtyEight, ranging from A to F with +/-"
   ],
   "cell_type": "markdown",
   "metadata": {}
  },
  {
   "cell_type": "code",
   "execution_count": null,
   "metadata": {},
   "outputs": [],
   "source": [
    "original_data.labels"
   ]
  },
  {
   "source": [
    "## Question 1 - A General Focus on Wisconsin\n"
   ],
   "cell_type": "markdown",
   "metadata": {}
  },
  {
   "source": [
    "\n",
    "### 1.1 - Load the data\n",
    "Let's spend some time looking at data from Wisconsin - one of the more surprising results of the election. Let's load all polls that take place in Wisconsin into a variable called wisconsin."
   ],
   "cell_type": "markdown",
   "metadata": {}
  },
  {
   "source": [
    "```\n",
    "BEGIN QUESTION\n",
    "name: q1.1\n",
    "manual: false\n",
    "```\n"
   ],
   "cell_type": "markdown",
   "metadata": {}
  },
  {
   "cell_type": "code",
   "execution_count": null,
   "metadata": {},
   "outputs": [],
   "source": [
    "wisconsin = original_data.where('state', 'Wisconsin') # SOLUTION\n",
    "\n",
    "wisconsin\n",
    "\n"
   ]
  },
  {
   "source": [
    "### 1.2 - Plotting polling averages\n",
    "\n",
    "There are clearly many polls that take place in Wisconsin - luckily, they are in order chronologically, so we don't have to worry about sorting them. However, we should probably visualize the results in a more meaningful way. Plot the adjpoll_clinton and adjpoll_trump columns and comment on what you notice."
   ],
   "cell_type": "markdown",
   "metadata": {}
  },
  {
   "source": [
    "```\n",
    "BEGIN QUESTION\n",
    "name: q1.2\n",
    "manual: true\n",
    "```\n"
   ],
   "cell_type": "markdown",
   "metadata": {}
  },
  {
   "cell_type": "code",
   "execution_count": null,
   "metadata": {},
   "outputs": [],
   "source": [
    "wisconsin.plot(select=['adjpoll_clinton', 'adjpoll_trump']) # SOLUTION NO PROMPT\n"
   ]
  },
  {
   "source": [
    "### 1.3 - Array of difference between Clinton, Trump\n",
    "\n",
    "To further understand this relationship, create an array that contains the difference between the percent that voted for Clinton and those that voted for Trump. Then, run the cell below to plot this relationship."
   ],
   "cell_type": "markdown",
   "metadata": {}
  },
  {
   "source": [
    "```\n",
    "BEGIN QUESTION\n",
    "name: q1.3\n",
    "manual: false\n",
    "```\n"
   ],
   "cell_type": "markdown",
   "metadata": {}
  },
  {
   "cell_type": "code",
   "execution_count": null,
   "metadata": {},
   "outputs": [],
   "source": [
    "adj_diff_wisconsin = wisconsin['adjpoll_clinton'] - wisconsin['adjpoll_trump'] # SOLUTION\n"
   ]
  },
  {
   "cell_type": "code",
   "execution_count": null,
   "metadata": {},
   "outputs": [],
   "source": [
    "plt.title('Difference between Clinton Vote Percentage and Trump Vote Percentage')\n",
    "plt.plot(adj_diff_wisconsin)"
   ]
  },
  {
   "source": [
    "### 1.4\n",
    "\n",
    "Based on the above analysis, who do you expect to win the election? How confident are you in your analysis?"
   ],
   "cell_type": "markdown",
   "metadata": {}
  },
  {
   "source": [
    "```\n",
    "BEGIN QUESTION\n",
    "name: q1.4\n",
    "manual: true\n",
    "```\n"
   ],
   "cell_type": "markdown",
   "metadata": {}
  },
  {
   "source": [
    "**SOLUTION**"
   ],
   "cell_type": "markdown",
   "metadata": {}
  },
  {
   "source": [
    "### Question 2.1 - A Look at high ranking pollsters\n",
    "\n",
    "Trump won Wisconsin by just under 1% in 2016. This may be surprising! FiveThirtyEight also ranks pollsters, based on factors such as historical reliability ad inherent bias. Let's work on selecting only the A+, A, and A- rated pollsters, to see if they had a better take on the result. Note: you will need to use the [datascience.are.contained_in](http://data8.org/datascience/predicates.html) module. Then, plot the adjusted averages again."
   ],
   "cell_type": "markdown",
   "metadata": {}
  },
  {
   "source": [
    "```\n",
    "BEGIN QUESTION\n",
    "name: q2.1\n",
    "manual: true\n",
    "```\n"
   ],
   "cell_type": "markdown",
   "metadata": {}
  },
  {
   "cell_type": "code",
   "execution_count": null,
   "metadata": {},
   "outputs": [],
   "source": [
    "high_rankings = wisconsin.where('grade', are.contained_in(['A+', 'A', 'A-'])) # SOLUTION\n",
    "\n",
    "high_rankings.plot(select=['adjpoll_clinton', 'adjpoll_trump']) # SOLUTION"
   ]
  },
  {
   "source": [
    "### Question 2.2\n",
    "\n",
    "Do you notice a significant difference depending on the rankings? Did they do a better job at predicting the true outcome of the election?"
   ],
   "cell_type": "markdown",
   "metadata": {}
  },
  {
   "source": [
    "```\n",
    "BEGIN QUESTION\n",
    "name: q2.2\n",
    "manual: true\n",
    "```\n"
   ],
   "cell_type": "markdown",
   "metadata": {}
  },
  {
   "source": [
    "**SOLUTION**\n"
   ],
   "cell_type": "markdown",
   "metadata": {}
  },
  {
   "source": [
    "# Question 3: Open Ended Analysis\n",
    "\n",
    "1. Pick one of the following states: Pennsylvania, Ohio, Florida, Michigan\n",
    "2. Perform an analysis, similar to what we did for Wisconsin, on the state. Then, look up and mark the actual result of the state.\n",
    "3. Answer the following questions in some depth (feel free to use the resources below as a starting point for your research): \n",
    "  - What are some possible explanations for the discrepencies between the polls and the results of the election?\n",
    "  - To what extent should we be trusting the polls' predictions?"
   ],
   "cell_type": "markdown",
   "metadata": {}
  },
  {
   "source": [
    "```\n",
    "BEGIN QUESTION\n",
    "name: q3\n",
    "manual: true\n",
    "```\n"
   ],
   "cell_type": "markdown",
   "metadata": {}
  },
  {
   "cell_type": "code",
   "execution_count": null,
   "metadata": {},
   "outputs": [],
   "source": [
    "# Code here - feel free to add as many cells as you need"
   ]
  },
  {
   "source": [
    "# Interested in learning more?\n",
    "\n",
    "The subject of elections and polling has only gotten more relevant since 2016. Here are some resources to help you dve deeper into the topic!\n",
    "\n",
    "[Why 2016 Election Polls Missed Their Mark] (https://www.pewresearch.org/fact-tank/2016/11/09/why-2016-election-polls-missed-their-mark/): a brief but informative article from Pew Research\n",
    "\n",
    "FiveThirtyEight issued a [rebuttal] (https://fivethirtyeight.com/features/the-polls-are-all-right/) defnding their record, including the 2016 election. In fact, their predictions in 2018 would go on to be extremely accurate. Feel free to follow the hyperlinks throughout the article, as many lead to interesting articles and papers.\n",
    "\n",
    "\n",
    "Finally, if you're interested in a more academic approach, see [this paper] (https://eprints.soton.ac.uk/413658/1/JenningsWlezienPollingErrors.pdf), which conducted an analysis of thousands of polls in the last 60+ years and came to some interesting conclusions.\n"
   ],
   "cell_type": "markdown",
   "metadata": {}
  }
 ]
}