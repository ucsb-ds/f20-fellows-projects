{
  "nbformat": 4,
  "nbformat_minor": 0,
  "metadata": {
    "colab": {
      "name": "Fellowship Project",
      "provenance": [],
      "collapsed_sections": []
    },
    "kernelspec": {
      "name": "python3",
      "display_name": "Python 3"
    }
  },
  "cells": [
    {
      "cell_type": "markdown",
      "metadata": {
        "id": "mnTHDopotKFK"
      },
      "source": [
        "Carbon Flux to the Atmosphere from Land-Use Changes 1850-2005"
      ]
    },
    {
      "cell_type": "markdown",
      "metadata": {
        "id": "0WjuyR7yRU6x"
      },
      "source": [
        "1) First upload the data set from the following source: https://cdiac.ess-dive.lbl.gov/trends/landuse/houghton/houghton.html. This can be done by downloading the excel file. Store this data as a dataframe. "
      ]
    },
    {
      "cell_type": "code",
      "metadata": {
        "id": "7olT9faxSR-2"
      },
      "source": [
        "import pandas as pd\n",
        "import numpy as np"
      ],
      "execution_count": 2,
      "outputs": []
    },
    {
      "cell_type": "code",
      "metadata": {
        "colab": {
          "resources": {
            "http://localhost:8080/nbextensions/google.colab/files.js": {
              "data": "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",
              "ok": true,
              "headers": [
                [
                  "content-type",
                  "application/javascript"
                ]
              ],
              "status": 200,
              "status_text": ""
            }
          },
          "base_uri": "https://localhost:8080/",
          "height": 73
        },
        "id": "tZ6IsAJjRUOM",
        "outputId": "bdd8ff69-b158-45fd-9271-eb12f1034c6f"
      },
      "source": [
        "from google.colab import files \n",
        "uploaded = files.upload()"
      ],
      "execution_count": 3,
      "outputs": [
        {
          "output_type": "display_data",
          "data": {
            "text/html": [
              "\n",
              "     <input type=\"file\" id=\"files-bf23cf0b-ae0e-4fa8-bcb2-5d0ba449f834\" name=\"files[]\" multiple disabled\n",
              "        style=\"border:none\" />\n",
              "     <output id=\"result-bf23cf0b-ae0e-4fa8-bcb2-5d0ba449f834\">\n",
              "      Upload widget is only available when the cell has been executed in the\n",
              "      current browser session. Please rerun this cell to enable.\n",
              "      </output>\n",
              "      <script src=\"/nbextensions/google.colab/files.js\"></script> "
            ],
            "text/plain": [
              "<IPython.core.display.HTML object>"
            ]
          },
          "metadata": {
            "tags": []
          }
        },
        {
          "output_type": "stream",
          "text": [
            "Saving Global_land-use_flux-1850_2005.xls to Global_land-use_flux-1850_2005.xls\n"
          ],
          "name": "stdout"
        }
      ]
    },
    {
      "cell_type": "code",
      "metadata": {
        "colab": {
          "base_uri": "https://localhost:8080/",
          "height": 406
        },
        "id": "3xuFNNUTSIMj",
        "outputId": "bf0d6792-4b4f-4f36-f779-1817cf6c9e6a"
      },
      "source": [
        "df = pd.read_excel('Global_land-use_flux-1850_2005.xls')\n",
        "landdata = pd.DataFrame(data=df)\n",
        "landdata"
      ],
      "execution_count": 21,
      "outputs": [
        {
          "output_type": "execute_result",
          "data": {
            "text/html": [
              "<div>\n",
              "<style scoped>\n",
              "    .dataframe tbody tr th:only-of-type {\n",
              "        vertical-align: middle;\n",
              "    }\n",
              "\n",
              "    .dataframe tbody tr th {\n",
              "        vertical-align: top;\n",
              "    }\n",
              "\n",
              "    .dataframe thead th {\n",
              "        text-align: right;\n",
              "    }\n",
              "</style>\n",
              "<table border=\"1\" class=\"dataframe\">\n",
              "  <thead>\n",
              "    <tr style=\"text-align: right;\">\n",
              "      <th></th>\n",
              "      <th>Year</th>\n",
              "      <th>Global</th>\n",
              "      <th>USA</th>\n",
              "      <th>Canada</th>\n",
              "      <th>S+C America</th>\n",
              "      <th>Europe</th>\n",
              "      <th>Nafrica/Meast</th>\n",
              "      <th>Trop.Africa</th>\n",
              "      <th>Frmr USSR</th>\n",
              "      <th>China</th>\n",
              "      <th>S+SE Asia</th>\n",
              "      <th>Pac.Dev.Reg</th>\n",
              "    </tr>\n",
              "  </thead>\n",
              "  <tbody>\n",
              "    <tr>\n",
              "      <th>0</th>\n",
              "      <td>1850</td>\n",
              "      <td>500.6</td>\n",
              "      <td>164.0922</td>\n",
              "      <td>5.5476</td>\n",
              "      <td>23.4757</td>\n",
              "      <td>55.0441</td>\n",
              "      <td>3.9840</td>\n",
              "      <td>-1.3484</td>\n",
              "      <td>58.5571</td>\n",
              "      <td>101.8392</td>\n",
              "      <td>87.3469</td>\n",
              "      <td>2.0458</td>\n",
              "    </tr>\n",
              "    <tr>\n",
              "      <th>1</th>\n",
              "      <td>1851</td>\n",
              "      <td>492.7</td>\n",
              "      <td>165.7256</td>\n",
              "      <td>5.3626</td>\n",
              "      <td>23.1520</td>\n",
              "      <td>55.0156</td>\n",
              "      <td>3.9839</td>\n",
              "      <td>-1.1192</td>\n",
              "      <td>58.5525</td>\n",
              "      <td>93.0766</td>\n",
              "      <td>86.9100</td>\n",
              "      <td>2.0419</td>\n",
              "    </tr>\n",
              "    <tr>\n",
              "      <th>2</th>\n",
              "      <td>1852</td>\n",
              "      <td>548.5</td>\n",
              "      <td>230.6725</td>\n",
              "      <td>5.3380</td>\n",
              "      <td>22.8618</td>\n",
              "      <td>54.9874</td>\n",
              "      <td>3.9837</td>\n",
              "      <td>-1.0033</td>\n",
              "      <td>58.8781</td>\n",
              "      <td>83.8307</td>\n",
              "      <td>86.9385</td>\n",
              "      <td>2.0379</td>\n",
              "    </tr>\n",
              "    <tr>\n",
              "      <th>3</th>\n",
              "      <td>1853</td>\n",
              "      <td>546.8</td>\n",
              "      <td>238.5149</td>\n",
              "      <td>5.3138</td>\n",
              "      <td>22.6017</td>\n",
              "      <td>54.9590</td>\n",
              "      <td>3.9835</td>\n",
              "      <td>-1.0513</td>\n",
              "      <td>59.2207</td>\n",
              "      <td>74.2140</td>\n",
              "      <td>86.9935</td>\n",
              "      <td>2.0338</td>\n",
              "    </tr>\n",
              "    <tr>\n",
              "      <th>4</th>\n",
              "      <td>1854</td>\n",
              "      <td>544.8</td>\n",
              "      <td>246.1846</td>\n",
              "      <td>5.2899</td>\n",
              "      <td>22.3687</td>\n",
              "      <td>54.9304</td>\n",
              "      <td>3.9833</td>\n",
              "      <td>-0.9855</td>\n",
              "      <td>59.5802</td>\n",
              "      <td>64.3129</td>\n",
              "      <td>87.0630</td>\n",
              "      <td>2.0297</td>\n",
              "    </tr>\n",
              "    <tr>\n",
              "      <th>...</th>\n",
              "      <td>...</td>\n",
              "      <td>...</td>\n",
              "      <td>...</td>\n",
              "      <td>...</td>\n",
              "      <td>...</td>\n",
              "      <td>...</td>\n",
              "      <td>...</td>\n",
              "      <td>...</td>\n",
              "      <td>...</td>\n",
              "      <td>...</td>\n",
              "      <td>...</td>\n",
              "      <td>...</td>\n",
              "    </tr>\n",
              "    <tr>\n",
              "      <th>151</th>\n",
              "      <td>2001</td>\n",
              "      <td>1385.4</td>\n",
              "      <td>-31.9488</td>\n",
              "      <td>17.6121</td>\n",
              "      <td>643.1904</td>\n",
              "      <td>-18.0804</td>\n",
              "      <td>23.2448</td>\n",
              "      <td>261.6969</td>\n",
              "      <td>20.1075</td>\n",
              "      <td>-12.9153</td>\n",
              "      <td>478.5329</td>\n",
              "      <td>3.9161</td>\n",
              "    </tr>\n",
              "    <tr>\n",
              "      <th>152</th>\n",
              "      <td>2002</td>\n",
              "      <td>1517.7</td>\n",
              "      <td>-31.9488</td>\n",
              "      <td>17.6121</td>\n",
              "      <td>625.5099</td>\n",
              "      <td>-18.0804</td>\n",
              "      <td>23.2448</td>\n",
              "      <td>258.5236</td>\n",
              "      <td>20.1075</td>\n",
              "      <td>-12.9153</td>\n",
              "      <td>631.6960</td>\n",
              "      <td>3.9161</td>\n",
              "    </tr>\n",
              "    <tr>\n",
              "      <th>153</th>\n",
              "      <td>2003</td>\n",
              "      <td>1513.2</td>\n",
              "      <td>-31.9488</td>\n",
              "      <td>17.6121</td>\n",
              "      <td>616.4536</td>\n",
              "      <td>-18.0804</td>\n",
              "      <td>23.2448</td>\n",
              "      <td>225.5212</td>\n",
              "      <td>20.1075</td>\n",
              "      <td>-12.9153</td>\n",
              "      <td>669.2975</td>\n",
              "      <td>3.9161</td>\n",
              "    </tr>\n",
              "    <tr>\n",
              "      <th>154</th>\n",
              "      <td>2004</td>\n",
              "      <td>1534.9</td>\n",
              "      <td>-31.9488</td>\n",
              "      <td>17.6121</td>\n",
              "      <td>609.3525</td>\n",
              "      <td>-18.0804</td>\n",
              "      <td>23.2448</td>\n",
              "      <td>225.7864</td>\n",
              "      <td>20.1075</td>\n",
              "      <td>-12.9153</td>\n",
              "      <td>697.8432</td>\n",
              "      <td>3.9161</td>\n",
              "    </tr>\n",
              "    <tr>\n",
              "      <th>155</th>\n",
              "      <td>2005</td>\n",
              "      <td>1467.3</td>\n",
              "      <td>-31.9488</td>\n",
              "      <td>17.6121</td>\n",
              "      <td>606.4342</td>\n",
              "      <td>-18.0804</td>\n",
              "      <td>23.2448</td>\n",
              "      <td>239.2390</td>\n",
              "      <td>20.1075</td>\n",
              "      <td>-12.9153</td>\n",
              "      <td>619.6937</td>\n",
              "      <td>3.9161</td>\n",
              "    </tr>\n",
              "  </tbody>\n",
              "</table>\n",
              "<p>156 rows × 12 columns</p>\n",
              "</div>"
            ],
            "text/plain": [
              "     Year  Global       USA  ...     China  S+SE Asia  Pac.Dev.Reg\n",
              "0    1850   500.6  164.0922  ...  101.8392    87.3469       2.0458\n",
              "1    1851   492.7  165.7256  ...   93.0766    86.9100       2.0419\n",
              "2    1852   548.5  230.6725  ...   83.8307    86.9385       2.0379\n",
              "3    1853   546.8  238.5149  ...   74.2140    86.9935       2.0338\n",
              "4    1854   544.8  246.1846  ...   64.3129    87.0630       2.0297\n",
              "..    ...     ...       ...  ...       ...        ...          ...\n",
              "151  2001  1385.4  -31.9488  ...  -12.9153   478.5329       3.9161\n",
              "152  2002  1517.7  -31.9488  ...  -12.9153   631.6960       3.9161\n",
              "153  2003  1513.2  -31.9488  ...  -12.9153   669.2975       3.9161\n",
              "154  2004  1534.9  -31.9488  ...  -12.9153   697.8432       3.9161\n",
              "155  2005  1467.3  -31.9488  ...  -12.9153   619.6937       3.9161\n",
              "\n",
              "[156 rows x 12 columns]"
            ]
          },
          "metadata": {
            "tags": []
          },
          "execution_count": 21
        }
      ]
    },
    {
      "cell_type": "markdown",
      "metadata": {
        "id": "gfnR0bLfnvxr"
      },
      "source": [
        " - Rename the column Europe as \"EU\" using .rename() \n"
      ]
    },
    {
      "cell_type": "code",
      "metadata": {
        "id": "E1sGcDTmtcCc"
      },
      "source": [
        "landdata = landdata.rename(columns = {'Europe': 'EU'})"
      ],
      "execution_count": 22,
      "outputs": []
    },
    {
      "cell_type": "markdown",
      "metadata": {
        "id": "KcHMNd3Fn8wl"
      },
      "source": [
        " - drop the Pac.Dev.Reg column, we will not be using it for this exercise"
      ]
    },
    {
      "cell_type": "code",
      "metadata": {
        "id": "UHxilSVxtcgX"
      },
      "source": [
        "landdata = landdata.drop(columns=['Pac.Dev.Reg'])"
      ],
      "execution_count": 23,
      "outputs": []
    },
    {
      "cell_type": "markdown",
      "metadata": {
        "id": "itORqgjBof3m"
      },
      "source": [
        " - construct a dataframe named \"badFlux\" with values from the columns USA, Europe, and China with a flux less than 0"
      ]
    },
    {
      "cell_type": "code",
      "metadata": {
        "id": "Pg4QRMJytc8P",
        "colab": {
          "base_uri": "https://localhost:8080/",
          "height": 227
        },
        "outputId": "3c86b6dd-d8af-48a3-ab71-b232286b221f"
      },
      "source": [
        "badFluxUSA = [] \n",
        "for i in landdata[\"USA\"]:\n",
        "  if i<0: \n",
        "    badFluxUSA.append(i)\n",
        "\n",
        "badFluxEU = [] \n",
        "for i in landdata[\"EU\"]:\n",
        "  if i<0: \n",
        "    badFluxEU.append(i)\n",
        "\n",
        "badFluxChina = [] \n",
        "for i in landdata[\"China\"]:\n",
        "  if i<0: \n",
        "    badFluxChina.append(i)\n",
        "\n",
        "badFlux = pd.DataFrame(list(zip(badFluxUSA,badFluxEU,badFluxChina)), columns=['USA', 'EU', \"China\"]) \n",
        "badFlux"
      ],
      "execution_count": 11,
      "outputs": [
        {
          "output_type": "execute_result",
          "data": {
            "text/html": [
              "<div>\n",
              "<style scoped>\n",
              "    .dataframe tbody tr th:only-of-type {\n",
              "        vertical-align: middle;\n",
              "    }\n",
              "\n",
              "    .dataframe tbody tr th {\n",
              "        vertical-align: top;\n",
              "    }\n",
              "\n",
              "    .dataframe thead th {\n",
              "        text-align: right;\n",
              "    }\n",
              "</style>\n",
              "<table border=\"1\" class=\"dataframe\">\n",
              "  <thead>\n",
              "    <tr style=\"text-align: right;\">\n",
              "      <th></th>\n",
              "      <th>USA</th>\n",
              "      <th>EU</th>\n",
              "      <th>China</th>\n",
              "    </tr>\n",
              "  </thead>\n",
              "  <tbody>\n",
              "    <tr>\n",
              "      <th>0</th>\n",
              "      <td>-4.8479</td>\n",
              "      <td>-2.6384</td>\n",
              "      <td>-12.9153</td>\n",
              "    </tr>\n",
              "    <tr>\n",
              "      <th>1</th>\n",
              "      <td>-5.2068</td>\n",
              "      <td>-5.6405</td>\n",
              "      <td>-12.9153</td>\n",
              "    </tr>\n",
              "    <tr>\n",
              "      <th>2</th>\n",
              "      <td>-10.5706</td>\n",
              "      <td>-8.7890</td>\n",
              "      <td>-12.9153</td>\n",
              "    </tr>\n",
              "    <tr>\n",
              "      <th>3</th>\n",
              "      <td>-11.3810</td>\n",
              "      <td>-12.0787</td>\n",
              "      <td>-12.9153</td>\n",
              "    </tr>\n",
              "    <tr>\n",
              "      <th>4</th>\n",
              "      <td>-42.0452</td>\n",
              "      <td>-14.0904</td>\n",
              "      <td>-12.9153</td>\n",
              "    </tr>\n",
              "    <tr>\n",
              "      <th>5</th>\n",
              "      <td>-66.2967</td>\n",
              "      <td>-15.3441</td>\n",
              "      <td>-12.9153</td>\n",
              "    </tr>\n",
              "  </tbody>\n",
              "</table>\n",
              "</div>"
            ],
            "text/plain": [
              "       USA       EU    China\n",
              "0  -4.8479  -2.6384 -12.9153\n",
              "1  -5.2068  -5.6405 -12.9153\n",
              "2 -10.5706  -8.7890 -12.9153\n",
              "3 -11.3810 -12.0787 -12.9153\n",
              "4 -42.0452 -14.0904 -12.9153\n",
              "5 -66.2967 -15.3441 -12.9153"
            ]
          },
          "metadata": {
            "tags": []
          },
          "execution_count": 11
        }
      ]
    },
    {
      "cell_type": "markdown",
      "metadata": {
        "id": "I4nla2h6p6PG"
      },
      "source": [
        " - find the mean flux of all the regions represented and order the columns based on least mean carbon(largest number) flux to most impactful carbon flux( most negative number) "
      ]
    },
    {
      "cell_type": "code",
      "metadata": {
        "id": "F_26fEiGtdal",
        "colab": {
          "base_uri": "https://localhost:8080/",
          "height": 406
        },
        "outputId": "a3bca69d-659c-4f3d-a229-9daadc198e80"
      },
      "source": [
        "landdata.describe()\n",
        "landdataNew= landdata[[\"Nafrica/Meast\",\"Canada\", \"Pac.Dev.Reg\", \"EU\", \"Frmr USSR\", \"Trop.Africa\", \"USA\", \"China\", \"S+SE Asia\",\"S+C America\"]]\n",
        "landdataNew"
      ],
      "execution_count": 15,
      "outputs": [
        {
          "output_type": "execute_result",
          "data": {
            "text/html": [
              "<div>\n",
              "<style scoped>\n",
              "    .dataframe tbody tr th:only-of-type {\n",
              "        vertical-align: middle;\n",
              "    }\n",
              "\n",
              "    .dataframe tbody tr th {\n",
              "        vertical-align: top;\n",
              "    }\n",
              "\n",
              "    .dataframe thead th {\n",
              "        text-align: right;\n",
              "    }\n",
              "</style>\n",
              "<table border=\"1\" class=\"dataframe\">\n",
              "  <thead>\n",
              "    <tr style=\"text-align: right;\">\n",
              "      <th></th>\n",
              "      <th>Nafrica/Meast</th>\n",
              "      <th>Canada</th>\n",
              "      <th>Pac.Dev.Reg</th>\n",
              "      <th>EU</th>\n",
              "      <th>Frmr USSR</th>\n",
              "      <th>Trop.Africa</th>\n",
              "      <th>USA</th>\n",
              "      <th>China</th>\n",
              "      <th>S+SE Asia</th>\n",
              "      <th>S+C America</th>\n",
              "    </tr>\n",
              "  </thead>\n",
              "  <tbody>\n",
              "    <tr>\n",
              "      <th>0</th>\n",
              "      <td>3.9840</td>\n",
              "      <td>5.5476</td>\n",
              "      <td>2.0458</td>\n",
              "      <td>55.0441</td>\n",
              "      <td>58.5571</td>\n",
              "      <td>-1.3484</td>\n",
              "      <td>164.0922</td>\n",
              "      <td>101.8392</td>\n",
              "      <td>87.3469</td>\n",
              "      <td>23.4757</td>\n",
              "    </tr>\n",
              "    <tr>\n",
              "      <th>1</th>\n",
              "      <td>3.9839</td>\n",
              "      <td>5.3626</td>\n",
              "      <td>2.0419</td>\n",
              "      <td>55.0156</td>\n",
              "      <td>58.5525</td>\n",
              "      <td>-1.1192</td>\n",
              "      <td>165.7256</td>\n",
              "      <td>93.0766</td>\n",
              "      <td>86.9100</td>\n",
              "      <td>23.1520</td>\n",
              "    </tr>\n",
              "    <tr>\n",
              "      <th>2</th>\n",
              "      <td>3.9837</td>\n",
              "      <td>5.3380</td>\n",
              "      <td>2.0379</td>\n",
              "      <td>54.9874</td>\n",
              "      <td>58.8781</td>\n",
              "      <td>-1.0033</td>\n",
              "      <td>230.6725</td>\n",
              "      <td>83.8307</td>\n",
              "      <td>86.9385</td>\n",
              "      <td>22.8618</td>\n",
              "    </tr>\n",
              "    <tr>\n",
              "      <th>3</th>\n",
              "      <td>3.9835</td>\n",
              "      <td>5.3138</td>\n",
              "      <td>2.0338</td>\n",
              "      <td>54.9590</td>\n",
              "      <td>59.2207</td>\n",
              "      <td>-1.0513</td>\n",
              "      <td>238.5149</td>\n",
              "      <td>74.2140</td>\n",
              "      <td>86.9935</td>\n",
              "      <td>22.6017</td>\n",
              "    </tr>\n",
              "    <tr>\n",
              "      <th>4</th>\n",
              "      <td>3.9833</td>\n",
              "      <td>5.2899</td>\n",
              "      <td>2.0297</td>\n",
              "      <td>54.9304</td>\n",
              "      <td>59.5802</td>\n",
              "      <td>-0.9855</td>\n",
              "      <td>246.1846</td>\n",
              "      <td>64.3129</td>\n",
              "      <td>87.0630</td>\n",
              "      <td>22.3687</td>\n",
              "    </tr>\n",
              "    <tr>\n",
              "      <th>...</th>\n",
              "      <td>...</td>\n",
              "      <td>...</td>\n",
              "      <td>...</td>\n",
              "      <td>...</td>\n",
              "      <td>...</td>\n",
              "      <td>...</td>\n",
              "      <td>...</td>\n",
              "      <td>...</td>\n",
              "      <td>...</td>\n",
              "      <td>...</td>\n",
              "    </tr>\n",
              "    <tr>\n",
              "      <th>151</th>\n",
              "      <td>23.2448</td>\n",
              "      <td>17.6121</td>\n",
              "      <td>3.9161</td>\n",
              "      <td>-18.0804</td>\n",
              "      <td>20.1075</td>\n",
              "      <td>261.6969</td>\n",
              "      <td>-31.9488</td>\n",
              "      <td>-12.9153</td>\n",
              "      <td>478.5329</td>\n",
              "      <td>643.1904</td>\n",
              "    </tr>\n",
              "    <tr>\n",
              "      <th>152</th>\n",
              "      <td>23.2448</td>\n",
              "      <td>17.6121</td>\n",
              "      <td>3.9161</td>\n",
              "      <td>-18.0804</td>\n",
              "      <td>20.1075</td>\n",
              "      <td>258.5236</td>\n",
              "      <td>-31.9488</td>\n",
              "      <td>-12.9153</td>\n",
              "      <td>631.6960</td>\n",
              "      <td>625.5099</td>\n",
              "    </tr>\n",
              "    <tr>\n",
              "      <th>153</th>\n",
              "      <td>23.2448</td>\n",
              "      <td>17.6121</td>\n",
              "      <td>3.9161</td>\n",
              "      <td>-18.0804</td>\n",
              "      <td>20.1075</td>\n",
              "      <td>225.5212</td>\n",
              "      <td>-31.9488</td>\n",
              "      <td>-12.9153</td>\n",
              "      <td>669.2975</td>\n",
              "      <td>616.4536</td>\n",
              "    </tr>\n",
              "    <tr>\n",
              "      <th>154</th>\n",
              "      <td>23.2448</td>\n",
              "      <td>17.6121</td>\n",
              "      <td>3.9161</td>\n",
              "      <td>-18.0804</td>\n",
              "      <td>20.1075</td>\n",
              "      <td>225.7864</td>\n",
              "      <td>-31.9488</td>\n",
              "      <td>-12.9153</td>\n",
              "      <td>697.8432</td>\n",
              "      <td>609.3525</td>\n",
              "    </tr>\n",
              "    <tr>\n",
              "      <th>155</th>\n",
              "      <td>23.2448</td>\n",
              "      <td>17.6121</td>\n",
              "      <td>3.9161</td>\n",
              "      <td>-18.0804</td>\n",
              "      <td>20.1075</td>\n",
              "      <td>239.2390</td>\n",
              "      <td>-31.9488</td>\n",
              "      <td>-12.9153</td>\n",
              "      <td>619.6937</td>\n",
              "      <td>606.4342</td>\n",
              "    </tr>\n",
              "  </tbody>\n",
              "</table>\n",
              "<p>156 rows × 10 columns</p>\n",
              "</div>"
            ],
            "text/plain": [
              "     Nafrica/Meast   Canada  Pac.Dev.Reg  ...     China  S+SE Asia  S+C America\n",
              "0           3.9840   5.5476       2.0458  ...  101.8392    87.3469      23.4757\n",
              "1           3.9839   5.3626       2.0419  ...   93.0766    86.9100      23.1520\n",
              "2           3.9837   5.3380       2.0379  ...   83.8307    86.9385      22.8618\n",
              "3           3.9835   5.3138       2.0338  ...   74.2140    86.9935      22.6017\n",
              "4           3.9833   5.2899       2.0297  ...   64.3129    87.0630      22.3687\n",
              "..             ...      ...          ...  ...       ...        ...          ...\n",
              "151        23.2448  17.6121       3.9161  ...  -12.9153   478.5329     643.1904\n",
              "152        23.2448  17.6121       3.9161  ...  -12.9153   631.6960     625.5099\n",
              "153        23.2448  17.6121       3.9161  ...  -12.9153   669.2975     616.4536\n",
              "154        23.2448  17.6121       3.9161  ...  -12.9153   697.8432     609.3525\n",
              "155        23.2448  17.6121       3.9161  ...  -12.9153   619.6937     606.4342\n",
              "\n",
              "[156 rows x 10 columns]"
            ]
          },
          "metadata": {
            "tags": []
          },
          "execution_count": 15
        }
      ]
    },
    {
      "cell_type": "markdown",
      "metadata": {
        "id": "gYhy5_bXZO6o"
      },
      "source": [
        "2)Understanding the data set. What is carbon flux? Take a look at the methods on the website of the data source. "
      ]
    },
    {
      "cell_type": "markdown",
      "metadata": {
        "id": "in1Rf7xpanh6"
      },
      "source": [
        "A carbon flux is the amount of carbon exchanged between Earth's carbon pools - the oceans, atmosphere, land, and living things. Negative fluxes (blue regions) indicate places where uptake of CO2 occurs. Positive fluxes (red colors) indicate places where emission of CO2 occurs. The pattern of exchange follows swings in temperature and sunlight and changes with season. Now, fossil fuel burning is the greatest factor in atmospheric carbon fluctuations. The bottom line of all this is that the amount of carbon in the atmosphere is increasing by about 6.1 gigatons per year, mostly due to fossil fuel burning and land use changes that destroy soil organic carbon.\n"
      ]
    },
    {
      "cell_type": "markdown",
      "metadata": {
        "id": "X5fl1tP5Tbjn"
      },
      "source": [
        "3) Graphing: Plot a graph which compares CO2 emissions in the US to the Global emissions from 1850 to 2005. What can you infer from this graph and why might that be?"
      ]
    },
    {
      "cell_type": "code",
      "metadata": {
        "id": "Wl2bD6ASambH",
        "colab": {
          "base_uri": "https://localhost:8080/",
          "height": 282
        },
        "outputId": "a5fc0215-7c14-4ca5-b42b-122baf1a0e25"
      },
      "source": [
        "import matplotlib.pyplot as plt\n",
        "plt.plot(landdata['Year'],landdata['USA'])\n",
        "plt.plot(landdata['Year'],landdata['Global'])"
      ],
      "execution_count": 45,
      "outputs": [
        {
          "output_type": "execute_result",
          "data": {
            "text/plain": [
              "[<matplotlib.lines.Line2D at 0x7fce3d6fc7b8>]"
            ]
          },
          "metadata": {
            "tags": []
          },
          "execution_count": 45
        },
        {
          "output_type": "display_data",
          "data": {
            "image/png": "[encoded data removed]",
            "text/plain": [
              "<Figure size 432x288 with 1 Axes>"
            ]
          },
          "metadata": {
            "tags": [],
            "needs_background": "light"
          }
        }
      ]
    },
    {
      "cell_type": "markdown",
      "metadata": {
        "id": "2vv3XGWnTkuk"
      },
      "source": [
        "As time goes on, the global carbon flux increases and the USA carbon flux decreases. "
      ]
    },
    {
      "cell_type": "markdown",
      "metadata": {
        "id": "gU-sNiSYXi7_"
      },
      "source": [
        "4) Data manipulation: Create two new columns within the data frame named \"P/N USA\" and \"P/N SCAmerica\" "
      ]
    },
    {
      "cell_type": "code",
      "metadata": {
        "id": "LVSXokEcal8x",
        "colab": {
          "base_uri": "https://localhost:8080/",
          "height": 406
        },
        "outputId": "574737eb-968d-4b2e-f953-ef84ab38ed10"
      },
      "source": [
        "landdata[\"P/N USA\"] =  df.apply(lambda _: '', axis=1)\n",
        "landdata[\"P/N SCAmerica\"] =  df.apply(lambda _: '', axis=1)\n",
        "landdata"
      ],
      "execution_count": 32,
      "outputs": [
        {
          "output_type": "execute_result",
          "data": {
            "text/html": [
              "<div>\n",
              "<style scoped>\n",
              "    .dataframe tbody tr th:only-of-type {\n",
              "        vertical-align: middle;\n",
              "    }\n",
              "\n",
              "    .dataframe tbody tr th {\n",
              "        vertical-align: top;\n",
              "    }\n",
              "\n",
              "    .dataframe thead th {\n",
              "        text-align: right;\n",
              "    }\n",
              "</style>\n",
              "<table border=\"1\" class=\"dataframe\">\n",
              "  <thead>\n",
              "    <tr style=\"text-align: right;\">\n",
              "      <th></th>\n",
              "      <th>Year</th>\n",
              "      <th>Global</th>\n",
              "      <th>USA</th>\n",
              "      <th>Canada</th>\n",
              "      <th>S+C America</th>\n",
              "      <th>EU</th>\n",
              "      <th>Nafrica/Meast</th>\n",
              "      <th>Trop.Africa</th>\n",
              "      <th>Frmr USSR</th>\n",
              "      <th>China</th>\n",
              "      <th>S+SE Asia</th>\n",
              "      <th>P/N USA</th>\n",
              "      <th>P/N SCAmerica</th>\n",
              "    </tr>\n",
              "  </thead>\n",
              "  <tbody>\n",
              "    <tr>\n",
              "      <th>0</th>\n",
              "      <td>1850</td>\n",
              "      <td>500.6</td>\n",
              "      <td>164.0922</td>\n",
              "      <td>5.5476</td>\n",
              "      <td>23.4757</td>\n",
              "      <td>55.0441</td>\n",
              "      <td>3.9840</td>\n",
              "      <td>-1.3484</td>\n",
              "      <td>58.5571</td>\n",
              "      <td>101.8392</td>\n",
              "      <td>87.3469</td>\n",
              "      <td></td>\n",
              "      <td></td>\n",
              "    </tr>\n",
              "    <tr>\n",
              "      <th>1</th>\n",
              "      <td>1851</td>\n",
              "      <td>492.7</td>\n",
              "      <td>165.7256</td>\n",
              "      <td>5.3626</td>\n",
              "      <td>23.1520</td>\n",
              "      <td>55.0156</td>\n",
              "      <td>3.9839</td>\n",
              "      <td>-1.1192</td>\n",
              "      <td>58.5525</td>\n",
              "      <td>93.0766</td>\n",
              "      <td>86.9100</td>\n",
              "      <td></td>\n",
              "      <td></td>\n",
              "    </tr>\n",
              "    <tr>\n",
              "      <th>2</th>\n",
              "      <td>1852</td>\n",
              "      <td>548.5</td>\n",
              "      <td>230.6725</td>\n",
              "      <td>5.3380</td>\n",
              "      <td>22.8618</td>\n",
              "      <td>54.9874</td>\n",
              "      <td>3.9837</td>\n",
              "      <td>-1.0033</td>\n",
              "      <td>58.8781</td>\n",
              "      <td>83.8307</td>\n",
              "      <td>86.9385</td>\n",
              "      <td></td>\n",
              "      <td></td>\n",
              "    </tr>\n",
              "    <tr>\n",
              "      <th>3</th>\n",
              "      <td>1853</td>\n",
              "      <td>546.8</td>\n",
              "      <td>238.5149</td>\n",
              "      <td>5.3138</td>\n",
              "      <td>22.6017</td>\n",
              "      <td>54.9590</td>\n",
              "      <td>3.9835</td>\n",
              "      <td>-1.0513</td>\n",
              "      <td>59.2207</td>\n",
              "      <td>74.2140</td>\n",
              "      <td>86.9935</td>\n",
              "      <td></td>\n",
              "      <td></td>\n",
              "    </tr>\n",
              "    <tr>\n",
              "      <th>4</th>\n",
              "      <td>1854</td>\n",
              "      <td>544.8</td>\n",
              "      <td>246.1846</td>\n",
              "      <td>5.2899</td>\n",
              "      <td>22.3687</td>\n",
              "      <td>54.9304</td>\n",
              "      <td>3.9833</td>\n",
              "      <td>-0.9855</td>\n",
              "      <td>59.5802</td>\n",
              "      <td>64.3129</td>\n",
              "      <td>87.0630</td>\n",
              "      <td></td>\n",
              "      <td></td>\n",
              "    </tr>\n",
              "    <tr>\n",
              "      <th>...</th>\n",
              "      <td>...</td>\n",
              "      <td>...</td>\n",
              "      <td>...</td>\n",
              "      <td>...</td>\n",
              "      <td>...</td>\n",
              "      <td>...</td>\n",
              "      <td>...</td>\n",
              "      <td>...</td>\n",
              "      <td>...</td>\n",
              "      <td>...</td>\n",
              "      <td>...</td>\n",
              "      <td>...</td>\n",
              "      <td>...</td>\n",
              "    </tr>\n",
              "    <tr>\n",
              "      <th>151</th>\n",
              "      <td>2001</td>\n",
              "      <td>1385.4</td>\n",
              "      <td>-31.9488</td>\n",
              "      <td>17.6121</td>\n",
              "      <td>643.1904</td>\n",
              "      <td>-18.0804</td>\n",
              "      <td>23.2448</td>\n",
              "      <td>261.6969</td>\n",
              "      <td>20.1075</td>\n",
              "      <td>-12.9153</td>\n",
              "      <td>478.5329</td>\n",
              "      <td></td>\n",
              "      <td></td>\n",
              "    </tr>\n",
              "    <tr>\n",
              "      <th>152</th>\n",
              "      <td>2002</td>\n",
              "      <td>1517.7</td>\n",
              "      <td>-31.9488</td>\n",
              "      <td>17.6121</td>\n",
              "      <td>625.5099</td>\n",
              "      <td>-18.0804</td>\n",
              "      <td>23.2448</td>\n",
              "      <td>258.5236</td>\n",
              "      <td>20.1075</td>\n",
              "      <td>-12.9153</td>\n",
              "      <td>631.6960</td>\n",
              "      <td></td>\n",
              "      <td></td>\n",
              "    </tr>\n",
              "    <tr>\n",
              "      <th>153</th>\n",
              "      <td>2003</td>\n",
              "      <td>1513.2</td>\n",
              "      <td>-31.9488</td>\n",
              "      <td>17.6121</td>\n",
              "      <td>616.4536</td>\n",
              "      <td>-18.0804</td>\n",
              "      <td>23.2448</td>\n",
              "      <td>225.5212</td>\n",
              "      <td>20.1075</td>\n",
              "      <td>-12.9153</td>\n",
              "      <td>669.2975</td>\n",
              "      <td></td>\n",
              "      <td></td>\n",
              "    </tr>\n",
              "    <tr>\n",
              "      <th>154</th>\n",
              "      <td>2004</td>\n",
              "      <td>1534.9</td>\n",
              "      <td>-31.9488</td>\n",
              "      <td>17.6121</td>\n",
              "      <td>609.3525</td>\n",
              "      <td>-18.0804</td>\n",
              "      <td>23.2448</td>\n",
              "      <td>225.7864</td>\n",
              "      <td>20.1075</td>\n",
              "      <td>-12.9153</td>\n",
              "      <td>697.8432</td>\n",
              "      <td></td>\n",
              "      <td></td>\n",
              "    </tr>\n",
              "    <tr>\n",
              "      <th>155</th>\n",
              "      <td>2005</td>\n",
              "      <td>1467.3</td>\n",
              "      <td>-31.9488</td>\n",
              "      <td>17.6121</td>\n",
              "      <td>606.4342</td>\n",
              "      <td>-18.0804</td>\n",
              "      <td>23.2448</td>\n",
              "      <td>239.2390</td>\n",
              "      <td>20.1075</td>\n",
              "      <td>-12.9153</td>\n",
              "      <td>619.6937</td>\n",
              "      <td></td>\n",
              "      <td></td>\n",
              "    </tr>\n",
              "  </tbody>\n",
              "</table>\n",
              "<p>156 rows × 13 columns</p>\n",
              "</div>"
            ],
            "text/plain": [
              "     Year  Global       USA   Canada  ...     China  S+SE Asia  P/N USA  P/N SCAmerica\n",
              "0    1850   500.6  164.0922   5.5476  ...  101.8392    87.3469                        \n",
              "1    1851   492.7  165.7256   5.3626  ...   93.0766    86.9100                        \n",
              "2    1852   548.5  230.6725   5.3380  ...   83.8307    86.9385                        \n",
              "3    1853   546.8  238.5149   5.3138  ...   74.2140    86.9935                        \n",
              "4    1854   544.8  246.1846   5.2899  ...   64.3129    87.0630                        \n",
              "..    ...     ...       ...      ...  ...       ...        ...      ...            ...\n",
              "151  2001  1385.4  -31.9488  17.6121  ...  -12.9153   478.5329                        \n",
              "152  2002  1517.7  -31.9488  17.6121  ...  -12.9153   631.6960                        \n",
              "153  2003  1513.2  -31.9488  17.6121  ...  -12.9153   669.2975                        \n",
              "154  2004  1534.9  -31.9488  17.6121  ...  -12.9153   697.8432                        \n",
              "155  2005  1467.3  -31.9488  17.6121  ...  -12.9153   619.6937                        \n",
              "\n",
              "[156 rows x 13 columns]"
            ]
          },
          "metadata": {
            "tags": []
          },
          "execution_count": 32
        }
      ]
    },
    {
      "cell_type": "markdown",
      "metadata": {
        "id": "HHrd46hcaglZ"
      },
      "source": [
        "- Once these new columns have been created, give the row a \"P\" if the is a positive carbon flux and a \"N\" if there is a negative carbon flux in the USA for \"P/N USA\" and the same for \"PN SC America\" for the S and Central America region."
      ]
    },
    {
      "cell_type": "code",
      "metadata": {
        "id": "fLTNaSSCapCM",
        "colab": {
          "base_uri": "https://localhost:8080/",
          "height": 406
        },
        "outputId": "77a04d28-f0e7-4b2e-83ca-5286c314512c"
      },
      "source": [
        "PNUSA = []\n",
        "for i in landdata[\"USA\"]:\n",
        "  if i >0:\n",
        "    PNUSA.append('P')\n",
        "  if i<= 0: \n",
        "    PNUSA.append('N')\n",
        "landdata[\"P/N USA\"] = PNUSA\n",
        "\n",
        "PNSCA = []\n",
        "for i in landdata[\"S+C America\"]:\n",
        "  if i >0:\n",
        "    PNSCA.append('P')\n",
        "  if i<= 0: \n",
        "    PNSCA.append('N')\n",
        "landdata[\"P/N SCAmerica\"] = PNSCA\n",
        "\n",
        "landdata"
      ],
      "execution_count": 37,
      "outputs": [
        {
          "output_type": "execute_result",
          "data": {
            "text/html": [
              "<div>\n",
              "<style scoped>\n",
              "    .dataframe tbody tr th:only-of-type {\n",
              "        vertical-align: middle;\n",
              "    }\n",
              "\n",
              "    .dataframe tbody tr th {\n",
              "        vertical-align: top;\n",
              "    }\n",
              "\n",
              "    .dataframe thead th {\n",
              "        text-align: right;\n",
              "    }\n",
              "</style>\n",
              "<table border=\"1\" class=\"dataframe\">\n",
              "  <thead>\n",
              "    <tr style=\"text-align: right;\">\n",
              "      <th></th>\n",
              "      <th>Year</th>\n",
              "      <th>Global</th>\n",
              "      <th>USA</th>\n",
              "      <th>Canada</th>\n",
              "      <th>S+C America</th>\n",
              "      <th>EU</th>\n",
              "      <th>Nafrica/Meast</th>\n",
              "      <th>Trop.Africa</th>\n",
              "      <th>Frmr USSR</th>\n",
              "      <th>China</th>\n",
              "      <th>S+SE Asia</th>\n",
              "      <th>P/N USA</th>\n",
              "      <th>P/N SCAmerica</th>\n",
              "    </tr>\n",
              "  </thead>\n",
              "  <tbody>\n",
              "    <tr>\n",
              "      <th>0</th>\n",
              "      <td>1850</td>\n",
              "      <td>500.6</td>\n",
              "      <td>164.0922</td>\n",
              "      <td>5.5476</td>\n",
              "      <td>23.4757</td>\n",
              "      <td>55.0441</td>\n",
              "      <td>3.9840</td>\n",
              "      <td>-1.3484</td>\n",
              "      <td>58.5571</td>\n",
              "      <td>101.8392</td>\n",
              "      <td>87.3469</td>\n",
              "      <td>P</td>\n",
              "      <td>P</td>\n",
              "    </tr>\n",
              "    <tr>\n",
              "      <th>1</th>\n",
              "      <td>1851</td>\n",
              "      <td>492.7</td>\n",
              "      <td>165.7256</td>\n",
              "      <td>5.3626</td>\n",
              "      <td>23.1520</td>\n",
              "      <td>55.0156</td>\n",
              "      <td>3.9839</td>\n",
              "      <td>-1.1192</td>\n",
              "      <td>58.5525</td>\n",
              "      <td>93.0766</td>\n",
              "      <td>86.9100</td>\n",
              "      <td>P</td>\n",
              "      <td>P</td>\n",
              "    </tr>\n",
              "    <tr>\n",
              "      <th>2</th>\n",
              "      <td>1852</td>\n",
              "      <td>548.5</td>\n",
              "      <td>230.6725</td>\n",
              "      <td>5.3380</td>\n",
              "      <td>22.8618</td>\n",
              "      <td>54.9874</td>\n",
              "      <td>3.9837</td>\n",
              "      <td>-1.0033</td>\n",
              "      <td>58.8781</td>\n",
              "      <td>83.8307</td>\n",
              "      <td>86.9385</td>\n",
              "      <td>P</td>\n",
              "      <td>P</td>\n",
              "    </tr>\n",
              "    <tr>\n",
              "      <th>3</th>\n",
              "      <td>1853</td>\n",
              "      <td>546.8</td>\n",
              "      <td>238.5149</td>\n",
              "      <td>5.3138</td>\n",
              "      <td>22.6017</td>\n",
              "      <td>54.9590</td>\n",
              "      <td>3.9835</td>\n",
              "      <td>-1.0513</td>\n",
              "      <td>59.2207</td>\n",
              "      <td>74.2140</td>\n",
              "      <td>86.9935</td>\n",
              "      <td>P</td>\n",
              "      <td>P</td>\n",
              "    </tr>\n",
              "    <tr>\n",
              "      <th>4</th>\n",
              "      <td>1854</td>\n",
              "      <td>544.8</td>\n",
              "      <td>246.1846</td>\n",
              "      <td>5.2899</td>\n",
              "      <td>22.3687</td>\n",
              "      <td>54.9304</td>\n",
              "      <td>3.9833</td>\n",
              "      <td>-0.9855</td>\n",
              "      <td>59.5802</td>\n",
              "      <td>64.3129</td>\n",
              "      <td>87.0630</td>\n",
              "      <td>P</td>\n",
              "      <td>P</td>\n",
              "    </tr>\n",
              "    <tr>\n",
              "      <th>...</th>\n",
              "      <td>...</td>\n",
              "      <td>...</td>\n",
              "      <td>...</td>\n",
              "      <td>...</td>\n",
              "      <td>...</td>\n",
              "      <td>...</td>\n",
              "      <td>...</td>\n",
              "      <td>...</td>\n",
              "      <td>...</td>\n",
              "      <td>...</td>\n",
              "      <td>...</td>\n",
              "      <td>...</td>\n",
              "      <td>...</td>\n",
              "    </tr>\n",
              "    <tr>\n",
              "      <th>151</th>\n",
              "      <td>2001</td>\n",
              "      <td>1385.4</td>\n",
              "      <td>-31.9488</td>\n",
              "      <td>17.6121</td>\n",
              "      <td>643.1904</td>\n",
              "      <td>-18.0804</td>\n",
              "      <td>23.2448</td>\n",
              "      <td>261.6969</td>\n",
              "      <td>20.1075</td>\n",
              "      <td>-12.9153</td>\n",
              "      <td>478.5329</td>\n",
              "      <td>N</td>\n",
              "      <td>P</td>\n",
              "    </tr>\n",
              "    <tr>\n",
              "      <th>152</th>\n",
              "      <td>2002</td>\n",
              "      <td>1517.7</td>\n",
              "      <td>-31.9488</td>\n",
              "      <td>17.6121</td>\n",
              "      <td>625.5099</td>\n",
              "      <td>-18.0804</td>\n",
              "      <td>23.2448</td>\n",
              "      <td>258.5236</td>\n",
              "      <td>20.1075</td>\n",
              "      <td>-12.9153</td>\n",
              "      <td>631.6960</td>\n",
              "      <td>N</td>\n",
              "      <td>P</td>\n",
              "    </tr>\n",
              "    <tr>\n",
              "      <th>153</th>\n",
              "      <td>2003</td>\n",
              "      <td>1513.2</td>\n",
              "      <td>-31.9488</td>\n",
              "      <td>17.6121</td>\n",
              "      <td>616.4536</td>\n",
              "      <td>-18.0804</td>\n",
              "      <td>23.2448</td>\n",
              "      <td>225.5212</td>\n",
              "      <td>20.1075</td>\n",
              "      <td>-12.9153</td>\n",
              "      <td>669.2975</td>\n",
              "      <td>N</td>\n",
              "      <td>P</td>\n",
              "    </tr>\n",
              "    <tr>\n",
              "      <th>154</th>\n",
              "      <td>2004</td>\n",
              "      <td>1534.9</td>\n",
              "      <td>-31.9488</td>\n",
              "      <td>17.6121</td>\n",
              "      <td>609.3525</td>\n",
              "      <td>-18.0804</td>\n",
              "      <td>23.2448</td>\n",
              "      <td>225.7864</td>\n",
              "      <td>20.1075</td>\n",
              "      <td>-12.9153</td>\n",
              "      <td>697.8432</td>\n",
              "      <td>N</td>\n",
              "      <td>P</td>\n",
              "    </tr>\n",
              "    <tr>\n",
              "      <th>155</th>\n",
              "      <td>2005</td>\n",
              "      <td>1467.3</td>\n",
              "      <td>-31.9488</td>\n",
              "      <td>17.6121</td>\n",
              "      <td>606.4342</td>\n",
              "      <td>-18.0804</td>\n",
              "      <td>23.2448</td>\n",
              "      <td>239.2390</td>\n",
              "      <td>20.1075</td>\n",
              "      <td>-12.9153</td>\n",
              "      <td>619.6937</td>\n",
              "      <td>N</td>\n",
              "      <td>P</td>\n",
              "    </tr>\n",
              "  </tbody>\n",
              "</table>\n",
              "<p>156 rows × 13 columns</p>\n",
              "</div>"
            ],
            "text/plain": [
              "     Year  Global       USA   Canada  ...     China  S+SE Asia  P/N USA  P/N SCAmerica\n",
              "0    1850   500.6  164.0922   5.5476  ...  101.8392    87.3469        P              P\n",
              "1    1851   492.7  165.7256   5.3626  ...   93.0766    86.9100        P              P\n",
              "2    1852   548.5  230.6725   5.3380  ...   83.8307    86.9385        P              P\n",
              "3    1853   546.8  238.5149   5.3138  ...   74.2140    86.9935        P              P\n",
              "4    1854   544.8  246.1846   5.2899  ...   64.3129    87.0630        P              P\n",
              "..    ...     ...       ...      ...  ...       ...        ...      ...            ...\n",
              "151  2001  1385.4  -31.9488  17.6121  ...  -12.9153   478.5329        N              P\n",
              "152  2002  1517.7  -31.9488  17.6121  ...  -12.9153   631.6960        N              P\n",
              "153  2003  1513.2  -31.9488  17.6121  ...  -12.9153   669.2975        N              P\n",
              "154  2004  1534.9  -31.9488  17.6121  ...  -12.9153   697.8432        N              P\n",
              "155  2005  1467.3  -31.9488  17.6121  ...  -12.9153   619.6937        N              P\n",
              "\n",
              "[156 rows x 13 columns]"
            ]
          },
          "metadata": {
            "tags": []
          },
          "execution_count": 37
        }
      ]
    },
    {
      "cell_type": "markdown",
      "metadata": {
        "id": "HAFjHqCpT_om"
      },
      "source": [
        " - what does a positive carbon flux mean and what does a negative carbon flux mean?\n"
      ]
    },
    {
      "cell_type": "markdown",
      "metadata": {
        "id": "DR3GbALxlvsy"
      },
      "source": [
        "Negative fluxes (blue regions) indicate places where uptake of CO2 occurs. Positive fluxes (red colors) indicate places where emission of CO2 occurs. Negative flux is bad for the environment."
      ]
    },
    {
      "cell_type": "markdown",
      "metadata": {
        "id": "GuoEhPnemJV3"
      },
      "source": [
        " - Plot the flux of the US and S and Central America over time. What can you infer from this? "
      ]
    },
    {
      "cell_type": "code",
      "metadata": {
        "id": "IV1UBHaMTa4A",
        "colab": {
          "base_uri": "https://localhost:8080/",
          "height": 282
        },
        "outputId": "feaa441f-4ab2-439f-b319-93a5a23311e3"
      },
      "source": [
        "plt.plot(landdata['Year'],landdata['USA'])\n",
        "plt.plot(landdata['Year'],landdata['S+C America'])"
      ],
      "execution_count": 43,
      "outputs": [
        {
          "output_type": "execute_result",
          "data": {
            "text/plain": [
              "[<matplotlib.lines.Line2D at 0x7fce3d6be0b8>]"
            ]
          },
          "metadata": {
            "tags": []
          },
          "execution_count": 43
        },
        {
          "output_type": "display_data",
          "data": {
            "image/png": "[encoded data removed]",
            "text/plain": [
              "<Figure size 432x288 with 1 Axes>"
            ]
          },
          "metadata": {
            "tags": [],
            "needs_background": "light"
          }
        }
      ]
    },
    {
      "cell_type": "markdown",
      "metadata": {
        "id": "B7S6Qup4S2z9"
      },
      "source": [
        "As time goes on, the South and Central America carbon flux increases and the USA carbon flux decreases. "
      ]
    },
    {
      "cell_type": "markdown",
      "metadata": {
        "id": "ArY92oAktkaY"
      },
      "source": [
        "What duty do we have as data scientists to make sense of this data? Is this dataset concerning?"
      ]
    },
    {
      "cell_type": "markdown",
      "metadata": {
        "id": "sLVucBYJtsh0"
      },
      "source": [
        "It is our duty as data scientists to make data like this available because it brings to light the carbon flux emissions changes across the world. If data like this is analyzed, environmental restrictions could be put in place to avoid detrimental change to the environment. "
      ]
    },
    {
      "cell_type": "markdown",
      "metadata": {
        "id": "bYzsKoOKm6Zz"
      },
      "source": [
        "Congrats you finished the assignment!"
      ]
    }
  ]
}