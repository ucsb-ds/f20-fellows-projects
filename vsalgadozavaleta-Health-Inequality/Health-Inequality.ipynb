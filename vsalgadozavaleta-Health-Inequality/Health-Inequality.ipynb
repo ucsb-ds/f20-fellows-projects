{
 "cells": [
  {
   "cell_type": "code",
   "execution_count": null,
   "metadata": {},
   "outputs": [],
   "source": [
    "# initializing otter-grader\n",
    "#import otter\n",
    "#grader = otter.Notebook()"
   ]
  },
  {
   "cell_type": "code",
   "execution_count": null,
   "metadata": {},
   "outputs": [],
   "source": [
    "import os\n",
    "import pandas as pd\n",
    "import numpy as np\n",
    "import pylab as pl\n",
    "from pylab import rcParams"
   ]
  },
  {
   "cell_type": "markdown",
   "metadata": {},
   "source": [
    "# Health Inequality by Income in the US \n",
    "This data is provided by The Health Inquality Project.\n",
    "\n",
    "The purpose of this project is to measure differences in life expectancy by income across areas and identify strategies to improve health outcomes for low-income Americans.\n",
    "\n",
    "For context: \n",
    "The gaps between the rich and the poor are growing rapidly over time. Findings show that inequality in life expectancy is not inevitable. Replicating these successes more broadly will likely require targeted local efforts to improve health behaviors among low-income people in local communities. The local data on life expectancy by income group constructed in this project offer a lens to monitor local progress and identify promising solutions to reduce disparities in health."
   ]
  },
  {
   "cell_type": "markdown",
   "metadata": {},
   "source": [
    "1. Load the file 'state_life_expectancy_estimates.csv' into data_set using **pd**"
   ]
  },
  {
   "cell_type": "code",
   "execution_count": null,
   "metadata": {},
   "outputs": [],
   "source": [
    "data_set = pd.read_csv('state_life_expectancy_estimates.csv')"
   ]
  },
  {
   "cell_type": "markdown",
   "metadata": {},
   "source": [
    "2. Use the head() function to print out the first 10 states/territories."
   ]
  },
  {
   "cell_type": "code",
   "execution_count": null,
   "metadata": {},
   "outputs": [],
   "source": [
    "data_set.head(11)"
   ]
  },
  {
   "cell_type": "markdown",
   "metadata": {},
   "source": [
    "The data table gives us the state and average (denoted by \"agg\") of 4 Income Quartiles(q1,q2,q3,q4) inot Female(F) and Male(M) sexes. \n",
    "\n",
    "For example: \n",
    "\n",
    "le_agg_q1_F stands for \"Life Expectancy of Average Female in 1st Income Quartile\"\n",
    "\n",
    "le_agg_q3_F\tstands for \"Life Expectancy of Average Male in 3rdt Income Quartile\""
   ]
  },
  {
   "cell_type": "markdown",
   "metadata": {},
   "source": [
    "# Life Expectancy vs. Income in the United States\n",
    "Go to this website https://healthinequality.org/ and explore the first graph"
   ]
  },
  {
   "cell_type": "markdown",
   "metadata": {},
   "source": [
    "1. Life expectancy is known to differ between racial groups. Race-and-ethnicity adjusted estimates remove the differences in life expectancy across areas and income groups that are due to differences in the racial composition of those areas.\n",
    "\n",
    "Find another article or dataset that accounts for difference in life expenctancy between racial groups. \n",
    "Paste the link below:"
   ]
  },
  {
   "cell_type": "code",
   "execution_count": null,
   "metadata": {},
   "outputs": [],
   "source": []
  },
  {
   "cell_type": "markdown",
   "metadata": {},
   "source": [
    "# Country with the Lowest Femal Life Expectancy\n",
    "For this visual you will compare the mean expecatncy by country. \n",
    "This data set only takes female and male into account.\n",
    "You will find the country with the lowest life expectancy. "
   ]
  },
  {
   "cell_type": "markdown",
   "metadata": {},
   "source": [
    "1. Load the file **'international_mean_life_expectancy.csv'**. Load the data into matrix X using iloc."
   ]
  },
  {
   "cell_type": "code",
   "execution_count": null,
   "metadata": {},
   "outputs": [],
   "source": [
    "data_set = pd.read_csv('international_mean_life_expectancy.csv')\n",
    "X = data_set.iloc[:, :].values"
   ]
  },
  {
   "cell_type": "markdown",
   "metadata": {},
   "source": [
    "2. Obtain the name of the country with the lowest female life expectancy. Access the index of the matrix by using the  indexing format [:,:]. Obtain the size of the matrix with shape() function. A skeloton of the function is provided:"
   ]
  },
  {
   "cell_type": "code",
   "execution_count": null,
   "metadata": {},
   "outputs": [],
   "source": [
    "'''\n",
    "this is the correct answer.['Sierra Leone', 66.772469, 65.895416]  \n",
    "My intention with this question is to teach how to access the data of the matrix\n",
    "and how to index\n",
    "\n",
    "The code that is given to students is the following: \n",
    "A skelton of the function should be fill in the blank. I provided the answer.\n",
    "\n",
    "lowest_female_le = X[0:1,1:2]\n",
    "country = X[0:1,:1]\n",
    "for i in range(______):\n",
    "    assert(X.size > 0)\n",
    "    if lowest_female_le > X[_:_,_:_]:\n",
    "        lowest_female_le = X[_:_,_:_] \n",
    "        country = X[i+1:i+2,:1]\n",
    "        \n",
    "print(\"Country with the lowest female life expectancy is\", country)\n",
    "\n",
    "I provided the answer.\n",
    "\n",
    "'''\n",
    "lowest_female_le = X[0:1,1:2]\n",
    "country = X[0:1,:1]\n",
    "for i in range(X.shape[0]-1):\n",
    "    assert(X.size > 0)\n",
    "    if lowest_female_le > X[i+1:i+2,1:2]:\n",
    "        lowest_female_le = X[i+1:i+2,1:2] \n",
    "        country = X[i+1:i+2,:1]\n",
    "        \n",
    "print(\"Country with the lowest female life expectancy is\", country)"
   ]
  },
  {
   "cell_type": "markdown",
   "metadata": {},
   "source": [
    "3. After finding the correct name of the country, find the most recent overall life expectancy in said country (round to the nearest tenth)"
   ]
  },
  {
   "cell_type": "code",
   "execution_count": null,
   "metadata": {},
   "outputs": [],
   "source": [
    "Correct Answer: 54 years old"
   ]
  },
  {
   "cell_type": "markdown",
   "metadata": {},
   "source": [
    "Citation: \n",
    "\n",
    "The Association between Income and Life Expectancy in the United States, 2001 - 2014\n",
    "\n",
    "Raj Chetty, Michael Stepner, Sarah Abraham, Shelby Lin, Benjamin Scuderi, Nicholas Turner, Augustin Bergeron, and David Cutler\n",
    "The Journal of the American Medical Association, April 11, 2016, Vol 315, No. 14"
   ]
  }
 ],
 "metadata": {
  "kernelspec": {
   "display_name": "Python 3",
   "language": "python",
   "name": "python3"
  },
  "language_info": {
   "codemirror_mode": {
    "name": "ipython",
    "version": 3
   },
   "file_extension": ".py",
   "mimetype": "text/x-python",
   "name": "python",
   "nbconvert_exporter": "python",
   "pygments_lexer": "ipython3",
   "version": "3.7.1"
  }
 },
 "nbformat": 4,
 "nbformat_minor": 2
}
