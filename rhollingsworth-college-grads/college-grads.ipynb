{
 "cells": [
  {
   "cell_type": "markdown",
   "metadata": {},
   "source": [
    "# DS Fellows Project: College Graduates"
   ]
  },
  {
   "cell_type": "markdown",
   "metadata": {},
   "source": [
    "## By: Robin Hollingsworth"
   ]
  },
  {
   "cell_type": "markdown",
   "metadata": {},
   "source": [
    "For this assignment, we will be working with a dataset containing information on recent graduates for various majors. It includes variables such as major category, number of employed/unemployed and part-time/full-time workers to evaluate the pros and cons of various majors offered in the US.\n",
    "\n",
    "The dataset originates from the Census Bureau’s American Community Survey (ACS) Public Use Microdata Sample (PUMS) files and was featured in an article on FiveThirtyEight called \"The Economic Guide To Picking A College Major\". \n",
    "\n",
    "Dataset: https://github.com/fivethirtyeight/data/tree/master/college-majors\n",
    "         https://www.census.gov/programs-surveys/acs/microdata.html\n",
    "\n",
    "Article: https://fivethirtyeight.com/features/the-economic-guide-to-picking-a-college-major/"
   ]
  },
  {
   "cell_type": "code",
   "execution_count": 1,
   "metadata": {},
   "outputs": [],
   "source": [
    "# Run this cell to import libraries\n",
    "import numpy as np\n",
    "from datascience import *\n",
    "\n",
    "import matplotlib\n",
    "%matplotlib inline\n",
    "import matplotlib.pyplot as plt\n",
    "plt.style.use('fivethirtyeight')\n",
    "import warnings\n",
    "warnings.simplefilter('ignore', FutureWarning)"
   ]
  },
  {
   "cell_type": "markdown",
   "metadata": {},
   "source": [
    "## Q0: Load and Clean Dataset\n",
    "\n",
    "First, let's load the dataset (\"college-grads.csv\") into a variable called *grads* and view the dataset."
   ]
  },
  {
   "cell_type": "code",
   "execution_count": 2,
   "metadata": {
    "scrolled": false
   },
   "outputs": [
    {
     "data": {
      "text/html": [
       "<table border=\"1\" class=\"dataframe\">\n",
       "    <thead>\n",
       "        <tr>\n",
       "            <th>Rank</th> <th>Major_code</th> <th>Major</th> <th>Total</th> <th>Men</th> <th>Women</th> <th>Major_category</th> <th>ShareWomen</th> <th>Sample_size</th> <th>Employed</th> <th>Full_time</th> <th>Part_time</th> <th>Full_time_year_round</th> <th>Unemployed</th> <th>Unemployment_rate</th> <th>Median</th> <th>P25th</th> <th>P75th</th> <th>College_jobs</th> <th>Non_college_jobs</th> <th>Low_wage_jobs</th>\n",
       "        </tr>\n",
       "    </thead>\n",
       "    <tbody>\n",
       "        <tr>\n",
       "            <td>1   </td> <td>2419      </td> <td>PETROLEUM ENGINEERING                    </td> <td>2339 </td> <td>2057 </td> <td>282  </td> <td>Engineering      </td> <td>0.120564  </td> <td>36         </td> <td>1976    </td> <td>1849     </td> <td>270      </td> <td>1207                </td> <td>37        </td> <td>0.0183805        </td> <td>110000</td> <td>95000</td> <td>125000</td> <td>1534        </td> <td>364             </td> <td>193          </td>\n",
       "        </tr>\n",
       "        <tr>\n",
       "            <td>2   </td> <td>2416      </td> <td>MINING AND MINERAL ENGINEERING           </td> <td>756  </td> <td>679  </td> <td>77   </td> <td>Engineering      </td> <td>0.101852  </td> <td>7          </td> <td>640     </td> <td>556      </td> <td>170      </td> <td>388                 </td> <td>85        </td> <td>0.117241         </td> <td>75000 </td> <td>55000</td> <td>90000 </td> <td>350         </td> <td>257             </td> <td>50           </td>\n",
       "        </tr>\n",
       "        <tr>\n",
       "            <td>3   </td> <td>2415      </td> <td>METALLURGICAL ENGINEERING                </td> <td>856  </td> <td>725  </td> <td>131  </td> <td>Engineering      </td> <td>0.153037  </td> <td>3          </td> <td>648     </td> <td>558      </td> <td>133      </td> <td>340                 </td> <td>16        </td> <td>0.0240964        </td> <td>73000 </td> <td>50000</td> <td>105000</td> <td>456         </td> <td>176             </td> <td>0            </td>\n",
       "        </tr>\n",
       "        <tr>\n",
       "            <td>4   </td> <td>2417      </td> <td>NAVAL ARCHITECTURE AND MARINE ENGINEERING</td> <td>1258 </td> <td>1123 </td> <td>135  </td> <td>Engineering      </td> <td>0.107313  </td> <td>16         </td> <td>758     </td> <td>1069     </td> <td>150      </td> <td>692                 </td> <td>40        </td> <td>0.0501253        </td> <td>70000 </td> <td>43000</td> <td>80000 </td> <td>529         </td> <td>102             </td> <td>0            </td>\n",
       "        </tr>\n",
       "        <tr>\n",
       "            <td>5   </td> <td>2405      </td> <td>CHEMICAL ENGINEERING                     </td> <td>32260</td> <td>21239</td> <td>11021</td> <td>Engineering      </td> <td>0.341631  </td> <td>289        </td> <td>25694   </td> <td>23170    </td> <td>5180     </td> <td>16697               </td> <td>1672      </td> <td>0.0610977        </td> <td>65000 </td> <td>50000</td> <td>75000 </td> <td>18314       </td> <td>4440            </td> <td>972          </td>\n",
       "        </tr>\n",
       "        <tr>\n",
       "            <td>6   </td> <td>2418      </td> <td>NUCLEAR ENGINEERING                      </td> <td>2573 </td> <td>2200 </td> <td>373  </td> <td>Engineering      </td> <td>0.144967  </td> <td>17         </td> <td>1857    </td> <td>2038     </td> <td>264      </td> <td>1449                </td> <td>400       </td> <td>0.177226         </td> <td>65000 </td> <td>50000</td> <td>102000</td> <td>1142        </td> <td>657             </td> <td>244          </td>\n",
       "        </tr>\n",
       "        <tr>\n",
       "            <td>7   </td> <td>6202      </td> <td>ACTUARIAL SCIENCE                        </td> <td>3777 </td> <td>2110 </td> <td>1667 </td> <td>Business         </td> <td>0.441356  </td> <td>51         </td> <td>2912    </td> <td>2924     </td> <td>296      </td> <td>2482                </td> <td>308       </td> <td>0.0956522        </td> <td>62000 </td> <td>53000</td> <td>72000 </td> <td>1768        </td> <td>314             </td> <td>259          </td>\n",
       "        </tr>\n",
       "        <tr>\n",
       "            <td>8   </td> <td>5001      </td> <td>ASTRONOMY AND ASTROPHYSICS               </td> <td>1792 </td> <td>832  </td> <td>960  </td> <td>Physical Sciences</td> <td>0.535714  </td> <td>10         </td> <td>1526    </td> <td>1085     </td> <td>553      </td> <td>827                 </td> <td>33        </td> <td>0.0211674        </td> <td>62000 </td> <td>31500</td> <td>109000</td> <td>972         </td> <td>500             </td> <td>220          </td>\n",
       "        </tr>\n",
       "        <tr>\n",
       "            <td>9   </td> <td>2414      </td> <td>MECHANICAL ENGINEERING                   </td> <td>91227</td> <td>80320</td> <td>10907</td> <td>Engineering      </td> <td>0.119559  </td> <td>1029       </td> <td>76442   </td> <td>71298    </td> <td>13101    </td> <td>54639               </td> <td>4650      </td> <td>0.0573423        </td> <td>60000 </td> <td>48000</td> <td>70000 </td> <td>52844       </td> <td>16384           </td> <td>3253         </td>\n",
       "        </tr>\n",
       "        <tr>\n",
       "            <td>10  </td> <td>2408      </td> <td>ELECTRICAL ENGINEERING                   </td> <td>81527</td> <td>65511</td> <td>16016</td> <td>Engineering      </td> <td>0.19645   </td> <td>631        </td> <td>61928   </td> <td>55450    </td> <td>12695    </td> <td>41413               </td> <td>3895      </td> <td>0.0591738        </td> <td>60000 </td> <td>45000</td> <td>72000 </td> <td>45829       </td> <td>10874           </td> <td>3170         </td>\n",
       "        </tr>\n",
       "    </tbody>\n",
       "</table>\n",
       "<p>... (163 rows omitted)</p>"
      ],
      "text/plain": [
       "Rank | Major_code | Major                                     | Total | Men   | Women | Major_category    | ShareWomen | Sample_size | Employed | Full_time | Part_time | Full_time_year_round | Unemployed | Unemployment_rate | Median | P25th | P75th  | College_jobs | Non_college_jobs | Low_wage_jobs\n",
       "1    | 2419       | PETROLEUM ENGINEERING                     | 2339  | 2057  | 282   | Engineering       | 0.120564   | 36          | 1976     | 1849      | 270       | 1207                 | 37         | 0.0183805         | 110000 | 95000 | 125000 | 1534         | 364              | 193\n",
       "2    | 2416       | MINING AND MINERAL ENGINEERING            | 756   | 679   | 77    | Engineering       | 0.101852   | 7           | 640      | 556       | 170       | 388                  | 85         | 0.117241          | 75000  | 55000 | 90000  | 350          | 257              | 50\n",
       "3    | 2415       | METALLURGICAL ENGINEERING                 | 856   | 725   | 131   | Engineering       | 0.153037   | 3           | 648      | 558       | 133       | 340                  | 16         | 0.0240964         | 73000  | 50000 | 105000 | 456          | 176              | 0\n",
       "4    | 2417       | NAVAL ARCHITECTURE AND MARINE ENGINEERING | 1258  | 1123  | 135   | Engineering       | 0.107313   | 16          | 758      | 1069      | 150       | 692                  | 40         | 0.0501253         | 70000  | 43000 | 80000  | 529          | 102              | 0\n",
       "5    | 2405       | CHEMICAL ENGINEERING                      | 32260 | 21239 | 11021 | Engineering       | 0.341631   | 289         | 25694    | 23170     | 5180      | 16697                | 1672       | 0.0610977         | 65000  | 50000 | 75000  | 18314        | 4440             | 972\n",
       "6    | 2418       | NUCLEAR ENGINEERING                       | 2573  | 2200  | 373   | Engineering       | 0.144967   | 17          | 1857     | 2038      | 264       | 1449                 | 400        | 0.177226          | 65000  | 50000 | 102000 | 1142         | 657              | 244\n",
       "7    | 6202       | ACTUARIAL SCIENCE                         | 3777  | 2110  | 1667  | Business          | 0.441356   | 51          | 2912     | 2924      | 296       | 2482                 | 308        | 0.0956522         | 62000  | 53000 | 72000  | 1768         | 314              | 259\n",
       "8    | 5001       | ASTRONOMY AND ASTROPHYSICS                | 1792  | 832   | 960   | Physical Sciences | 0.535714   | 10          | 1526     | 1085      | 553       | 827                  | 33         | 0.0211674         | 62000  | 31500 | 109000 | 972          | 500              | 220\n",
       "9    | 2414       | MECHANICAL ENGINEERING                    | 91227 | 80320 | 10907 | Engineering       | 0.119559   | 1029        | 76442    | 71298     | 13101     | 54639                | 4650       | 0.0573423         | 60000  | 48000 | 70000  | 52844        | 16384            | 3253\n",
       "10   | 2408       | ELECTRICAL ENGINEERING                    | 81527 | 65511 | 16016 | Engineering       | 0.19645    | 631         | 61928    | 55450     | 12695     | 41413                | 3895       | 0.0591738         | 60000  | 45000 | 72000  | 45829        | 10874            | 3170\n",
       "... (163 rows omitted)"
      ]
     },
     "execution_count": 2,
     "metadata": {},
     "output_type": "execute_result"
    }
   ],
   "source": [
    "grads = Table().read_table(\"college-grads.csv\") # SOLUTION\n",
    "grads # SOLUTION"
   ]
  },
  {
   "cell_type": "markdown",
   "metadata": {},
   "source": [
    "### Q0.1 Clean Columns\n",
    "\n",
    "The columns/variables that we are focusing on are going to be the following:\n",
    "    \n",
    "- **Major**: major description\n",
    "- **Major_category**: category of major from Carnevale et al (http://cew.georgetown.edu/whatsitworth)\n",
    "- **Men**: number of male graduates\n",
    "- **Women**: number of female graduates\n",
    "- **ShareWomen**: percentage of total major population that identifies as female\n",
    "- **Unemployment_rate**: $\\frac{\\text{unemployed}}{\\text{unemployed + employed}}$\n",
    "- **Median**: median earnings of full-time, year-round workers"
   ]
  },
  {
   "cell_type": "markdown",
   "metadata": {},
   "source": [
    "Create a variable called *grads_clean* that takes *grads* and selects only these columns necessary for our analysis. We need to change the column named \"Median\" to \"Salary\". View the new clean dataset."
   ]
  },
  {
   "cell_type": "code",
   "execution_count": 3,
   "metadata": {
    "scrolled": true
   },
   "outputs": [
    {
     "data": {
      "text/html": [
       "<table border=\"1\" class=\"dataframe\">\n",
       "    <thead>\n",
       "        <tr>\n",
       "            <th>Major</th> <th>Major_category</th> <th>Men</th> <th>Women</th> <th>ShareWomen</th> <th>Unemployment_rate</th> <th>Salary</th>\n",
       "        </tr>\n",
       "    </thead>\n",
       "    <tbody>\n",
       "        <tr>\n",
       "            <td>PETROLEUM ENGINEERING                    </td> <td>Engineering      </td> <td>2057 </td> <td>282  </td> <td>0.120564  </td> <td>0.0183805        </td> <td>110000</td>\n",
       "        </tr>\n",
       "        <tr>\n",
       "            <td>MINING AND MINERAL ENGINEERING           </td> <td>Engineering      </td> <td>679  </td> <td>77   </td> <td>0.101852  </td> <td>0.117241         </td> <td>75000 </td>\n",
       "        </tr>\n",
       "        <tr>\n",
       "            <td>METALLURGICAL ENGINEERING                </td> <td>Engineering      </td> <td>725  </td> <td>131  </td> <td>0.153037  </td> <td>0.0240964        </td> <td>73000 </td>\n",
       "        </tr>\n",
       "        <tr>\n",
       "            <td>NAVAL ARCHITECTURE AND MARINE ENGINEERING</td> <td>Engineering      </td> <td>1123 </td> <td>135  </td> <td>0.107313  </td> <td>0.0501253        </td> <td>70000 </td>\n",
       "        </tr>\n",
       "        <tr>\n",
       "            <td>CHEMICAL ENGINEERING                     </td> <td>Engineering      </td> <td>21239</td> <td>11021</td> <td>0.341631  </td> <td>0.0610977        </td> <td>65000 </td>\n",
       "        </tr>\n",
       "        <tr>\n",
       "            <td>NUCLEAR ENGINEERING                      </td> <td>Engineering      </td> <td>2200 </td> <td>373  </td> <td>0.144967  </td> <td>0.177226         </td> <td>65000 </td>\n",
       "        </tr>\n",
       "        <tr>\n",
       "            <td>ACTUARIAL SCIENCE                        </td> <td>Business         </td> <td>2110 </td> <td>1667 </td> <td>0.441356  </td> <td>0.0956522        </td> <td>62000 </td>\n",
       "        </tr>\n",
       "        <tr>\n",
       "            <td>ASTRONOMY AND ASTROPHYSICS               </td> <td>Physical Sciences</td> <td>832  </td> <td>960  </td> <td>0.535714  </td> <td>0.0211674        </td> <td>62000 </td>\n",
       "        </tr>\n",
       "        <tr>\n",
       "            <td>MECHANICAL ENGINEERING                   </td> <td>Engineering      </td> <td>80320</td> <td>10907</td> <td>0.119559  </td> <td>0.0573423        </td> <td>60000 </td>\n",
       "        </tr>\n",
       "        <tr>\n",
       "            <td>ELECTRICAL ENGINEERING                   </td> <td>Engineering      </td> <td>65511</td> <td>16016</td> <td>0.19645   </td> <td>0.0591738        </td> <td>60000 </td>\n",
       "        </tr>\n",
       "    </tbody>\n",
       "</table>\n",
       "<p>... (163 rows omitted)</p>"
      ],
      "text/plain": [
       "Major                                     | Major_category    | Men   | Women | ShareWomen | Unemployment_rate | Salary\n",
       "PETROLEUM ENGINEERING                     | Engineering       | 2057  | 282   | 0.120564   | 0.0183805         | 110000\n",
       "MINING AND MINERAL ENGINEERING            | Engineering       | 679   | 77    | 0.101852   | 0.117241          | 75000\n",
       "METALLURGICAL ENGINEERING                 | Engineering       | 725   | 131   | 0.153037   | 0.0240964         | 73000\n",
       "NAVAL ARCHITECTURE AND MARINE ENGINEERING | Engineering       | 1123  | 135   | 0.107313   | 0.0501253         | 70000\n",
       "CHEMICAL ENGINEERING                      | Engineering       | 21239 | 11021 | 0.341631   | 0.0610977         | 65000\n",
       "NUCLEAR ENGINEERING                       | Engineering       | 2200  | 373   | 0.144967   | 0.177226          | 65000\n",
       "ACTUARIAL SCIENCE                         | Business          | 2110  | 1667  | 0.441356   | 0.0956522         | 62000\n",
       "ASTRONOMY AND ASTROPHYSICS                | Physical Sciences | 832   | 960   | 0.535714   | 0.0211674         | 62000\n",
       "MECHANICAL ENGINEERING                    | Engineering       | 80320 | 10907 | 0.119559   | 0.0573423         | 60000\n",
       "ELECTRICAL ENGINEERING                    | Engineering       | 65511 | 16016 | 0.19645    | 0.0591738         | 60000\n",
       "... (163 rows omitted)"
      ]
     },
     "execution_count": 3,
     "metadata": {},
     "output_type": "execute_result"
    }
   ],
   "source": [
    "grads_clean = grads.select([\"Major\",\"Major_category\",\"Men\",\"Women\",\"ShareWomen\",\n",
    "                            \"Unemployment_rate\", \"Median\"]).relabeled(\"Median\",\"Salary\") # SOLUTION\n",
    "grads_clean # SOLUTION"
   ]
  },
  {
   "cell_type": "markdown",
   "metadata": {},
   "source": [
    "### Q0.2\n",
    "How many majors are in this dataset? Store this in a variable called *numMajors*."
   ]
  },
  {
   "cell_type": "code",
   "execution_count": 4,
   "metadata": {},
   "outputs": [
    {
     "name": "stdout",
     "output_type": "stream",
     "text": [
      "Number of Majors: 173\n"
     ]
    }
   ],
   "source": [
    "numMajors = grads_clean.num_rows # SOLUTION\n",
    "print(\"Number of Majors:\", numMajors)"
   ]
  },
  {
   "cell_type": "markdown",
   "metadata": {},
   "source": [
    "## Q2: Post-Grad Unemployment Rate and Salary\n",
    "\n",
    "When choosing a major to study at college, most people want to study something to get a job post-grad that they would like. Two of the many things to take into consideration when deciding your future career path included: job security and salary. We are going to take a look at the unemployment rates and median salaries for the post-grad workers for all majors in this dataset."
   ]
  },
  {
   "cell_type": "markdown",
   "metadata": {},
   "source": [
    "### Q2.1 \n",
    "Let's start by finding the mean unemployment rates and salaries of all majors using the *Unemployment_rate* and *Salary* from the *grads_clean* dataset. Create two variables called *unemployment_mean* and *salary_mean*, respectively."
   ]
  },
  {
   "cell_type": "code",
   "execution_count": 5,
   "metadata": {
    "scrolled": false
   },
   "outputs": [
    {
     "name": "stdout",
     "output_type": "stream",
     "text": [
      "6.82% , $40151.45\n"
     ]
    }
   ],
   "source": [
    "unemployment_mean = grads_clean.column(\"Unemployment_rate\").mean() # SOLUTION\n",
    "salary_mean = grads_clean.column(\"Salary\").mean() # SOLUTION\n",
    "\n",
    "print(\"{:.2f}%\".format(unemployment_mean*100), \",\", \"${:.2f}\".format(salary_mean))"
   ]
  },
  {
   "cell_type": "markdown",
   "metadata": {},
   "source": [
    "### Q2.2\n",
    "Now, we are going to take a look at the relationship between unemployment rate and salary by plotting the two variables. \n",
    "\n",
    "Create a plot using *plt.scatter(x, y, 'bo')* and the *grads_clean* dataset to plot unemployment rate on the x-axis and salary on the y-axis. Make sure to have a proper title and axis labels. **Optional:** use plt.vlines to plot a vertical line representing the mean unemployment rate.\n",
    "\n",
    "What does each point represent? Are there any outliers that stand out? Where do the \"best\" points fall on the graph? Why are they the \"best\"? Where are the worst?"
   ]
  },
  {
   "cell_type": "code",
   "execution_count": 6,
   "metadata": {
    "scrolled": false
   },
   "outputs": [
    {
     "data": {
      "image/png": "[encoded data removed]",
      "text/plain": [
       "<Figure size 432x288 with 1 Axes>"
      ]
     },
     "metadata": {},
     "output_type": "display_data"
    }
   ],
   "source": [
    "# BEGIN SOLUTION\n",
    "plt.plot(grads_clean['Unemployment_rate'], grads_clean['Salary'], 'bo')\n",
    "plt.vlines(unemployment_mean, ymin=0, ymax=100000)\n",
    "plt.title(\"Plot of Median Salary\")\n",
    "plt.xlabel(\"Unemployment Rate\")\n",
    "plt.ylabel(\"Median Salary\")\n",
    "# END SOLUTION\n",
    "plt.show()"
   ]
  },
  {
   "cell_type": "markdown",
   "metadata": {},
   "source": []
  },
  {
   "cell_type": "markdown",
   "metadata": {},
   "source": [
    "### Q2.3\n",
    "\n",
    "Find the \"Statistics and Decision Science\" major. Is the salary for a Statistics and Decision Science major higher or lower than the mean calculated in part 2.1? Is the unemployment rate for a Statistics and Decision Science major higher or lower than the mean? (Be careful of capitalization!)"
   ]
  },
  {
   "cell_type": "code",
   "execution_count": 7,
   "metadata": {},
   "outputs": [
    {
     "data": {
      "text/html": [
       "<table border=\"1\" class=\"dataframe\">\n",
       "    <thead>\n",
       "        <tr>\n",
       "            <th>Major</th> <th>Major_category</th> <th>Men</th> <th>Women</th> <th>ShareWomen</th> <th>Unemployment_rate</th> <th>Salary</th>\n",
       "        </tr>\n",
       "    </thead>\n",
       "    <tbody>\n",
       "        <tr>\n",
       "            <td>STATISTICS AND DECISION SCIENCE</td> <td>Computers & Mathematics</td> <td>2960</td> <td>3291 </td> <td>0.526476  </td> <td>0.0862737        </td> <td>45000 </td>\n",
       "        </tr>\n",
       "    </tbody>\n",
       "</table>"
      ],
      "text/plain": [
       "Major                           | Major_category          | Men  | Women | ShareWomen | Unemployment_rate | Salary\n",
       "STATISTICS AND DECISION SCIENCE | Computers & Mathematics | 2960 | 3291  | 0.526476   | 0.0862737         | 45000"
      ]
     },
     "execution_count": 7,
     "metadata": {},
     "output_type": "execute_result"
    }
   ],
   "source": [
    "grads_clean.where(\"Major\",\"STATISTICS AND DECISION SCIENCE\") # SOLUTION"
   ]
  },
  {
   "cell_type": "markdown",
   "metadata": {},
   "source": []
  },
  {
   "cell_type": "markdown",
   "metadata": {},
   "source": [
    "### Q2.4\n",
    "Data analysis is not always just looking at the numbers. Sometimes you need to think beyond the numeric values to paint a complete picture. Many people place high importance on job security (unemployment rates) and salary when looking for a job or deciding what to major in. What are some other factors that would be important when choosing a field of study?"
   ]
  },
  {
   "cell_type": "markdown",
   "metadata": {},
   "source": []
  },
  {
   "cell_type": "markdown",
   "metadata": {},
   "source": [
    "## Q3: Women in Engineering\n",
    "\n",
    "The engineering based majors have stereotypically been very male dominated fields. Let's use the data to see if it supports this claim and look at the percentage of women in certain fields."
   ]
  },
  {
   "cell_type": "markdown",
   "metadata": {},
   "source": [
    "### Q3.1\n",
    "Take our *grads_clean* dataset and only choose the majors which fall under the Engineering major category into a table called *women_eng*. Then take the majors from *grads_clean* in Computers & Mathematics major category into a table called *women_comp*.\n",
    "\n",
    "Save the mean value of *ShareWomen* for both of these categories as *engMean* and *compMean*."
   ]
  },
  {
   "cell_type": "code",
   "execution_count": 8,
   "metadata": {
    "scrolled": false
   },
   "outputs": [
    {
     "name": "stdout",
     "output_type": "stream",
     "text": [
      "Engineering: 0.23888867596551722\n",
      "Computers & Math: 0.3117722051818182\n"
     ]
    }
   ],
   "source": [
    "women_eng = grads_clean.where(\"Major_category\", \"Engineering\") # SOLUTION\n",
    "women_comp = grads_clean.where(\"Major_category\", \"Computers & Mathematics\") # SOLUTION\n",
    "\n",
    "engMean = women_eng['ShareWomen'].mean() # SOLUTION\n",
    "compMean = women_comp['ShareWomen'].mean() # SOLUTION\n",
    "\n",
    "print(\"Engineering:\", engMean)\n",
    "print(\"Computers & Math:\", compMean)"
   ]
  },
  {
   "cell_type": "markdown",
   "metadata": {},
   "source": [
    "### Q3.2\n",
    "Select another major category of your choosing and repeat the previous steps (3.1) with the new major of finding the mean of *ShareWomen*."
   ]
  },
  {
   "cell_type": "code",
   "execution_count": null,
   "metadata": {},
   "outputs": [],
   "source": []
  },
  {
   "cell_type": "markdown",
   "metadata": {},
   "source": [
    "How does this mean percentage compare to the Engineering and Computers & Mathematics categories? Where you expecting this? Assuming overall the ratio of men to women is equal and the percentage of women in all majors is 0.5, how do the Engineering, Computers & Mathematics, and your category selection compare to the overall 50%?"
   ]
  },
  {
   "cell_type": "markdown",
   "metadata": {},
   "source": []
  },
  {
   "cell_type": "markdown",
   "metadata": {},
   "source": [
    "## Q4: Further Research\n",
    "Choose one:\n",
    "\n",
    "(a) The world is rapidly changing and the most lucrative careers are constantly changing and evolving. Research a field of study or major that you think has potential to be important and successful in the future and discuss why you think so. \n",
    "\n",
    "(b) If you would like to dive deeper into discovering how the gender balance within majors/careers is evolving, look up an article on one of the major/career categories in Question 3 that explores this topic. Paste the link to the article and briefly summarize your findings."
   ]
  },
  {
   "cell_type": "markdown",
   "metadata": {},
   "source": []
  }
 ],
 "metadata": {
  "kernelspec": {
   "display_name": "Python 3",
   "language": "python",
   "name": "python3"
  },
  "language_info": {
   "codemirror_mode": {
    "name": "ipython",
    "version": 3
   },
   "file_extension": ".py",
   "mimetype": "text/x-python",
   "name": "python",
   "nbconvert_exporter": "python",
   "pygments_lexer": "ipython3",
   "version": "3.8.6"
  }
 },
 "nbformat": 4,
 "nbformat_minor": 4
}
